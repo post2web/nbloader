{
 "cells": [
  {
   "cell_type": "code",
   "execution_count": 1,
   "metadata": {},
   "outputs": [
    {
     "name": "stdout",
     "output_type": "stream",
     "text": [
      "after compile before __init__\n",
      "I am inside loaded_notebook!\n",
      "in __init__\n",
      "I should still be in __init__\n",
      "I am inside loaded_notebook!\n",
      "in __init__\n",
      "I should still be in __init__\n",
      "Ran Data (heading 1)\n",
      "Ran Data 1 (heading 2)\n",
      "Ran Data 2 (heading 2)\n",
      "Ran Plot 1 (heading 2)\n",
      "Ran Plot 2 (heading 2)\n",
      "after compile before __init__\n",
      "I am inside loaded_notebook!\n",
      "in __init__\n",
      "I should still be in __init__\n"
     ]
    }
   ],
   "source": [
    "from nbloader import Notebook\n",
    "\n",
    "notebook = Notebook('test.ipynb')\n",
    "# tag __init__ is executed\n",
    "assert notebook.ns['a'] == 5\n",
    "\n",
    "notebook.run_all()\n",
    "assert notebook.ns['a'] == 6\n",
    "assert notebook.ns['b'] == 10\n",
    "\n",
    "notebook = Notebook('test.ipynb')\n",
    "try:\n",
    "    notebook.ns['b']\n",
    "except KeyError:\n",
    "    assert True\n",
    "else:\n",
    "    assert False\n",
    "\n",
    "assert notebook.run_tag('create_b').ns['b'] == 10"
   ]
  },
  {
   "cell_type": "code",
   "execution_count": 2,
   "metadata": {},
   "outputs": [
    {
     "name": "stdout",
     "output_type": "stream",
     "text": [
      "after compile before __init__\n",
      "I am inside loaded_notebook!\n",
      "in __init__\n",
      "I should still be in __init__\n"
     ]
    }
   ],
   "source": [
    "try:\n",
    "    a\n",
    "except NameError:\n",
    "    assert True\n",
    "else:\n",
    "    assert False\n",
    "notebook = Notebook('test.ipynb', ns=globals())\n",
    "assert a == 5\n",
    "del a"
   ]
  },
  {
   "cell_type": "code",
   "execution_count": 3,
   "metadata": {},
   "outputs": [
    {
     "name": "stdout",
     "output_type": "stream",
     "text": [
      "after compile before __init__\n",
      "I am inside loaded_notebook!\n",
      "in __init__\n",
      "I should still be in __init__\n",
      "6\n",
      "7\n",
      "1\n"
     ]
    }
   ],
   "source": [
    "notebook = Notebook('test.ipynb')\n",
    "notebook.run_tag('add_one')\n",
    "print(notebook.ns['a']) # 6\n",
    "assert notebook.ns['a'] == 6\n",
    "\n",
    "notebook.run_tag('add_one')\n",
    "print(notebook.ns['a']) # 7\n",
    "assert notebook.ns['a'] == 7\n",
    "\n",
    "notebook.ns['a'] = 0\n",
    "notebook.run_tag('add_one')\n",
    "print(notebook.ns['a']) # 1\n",
    "assert notebook.ns['a'] == 1"
   ]
  },
  {
   "cell_type": "code",
   "execution_count": 4,
   "metadata": {},
   "outputs": [
    {
     "name": "stdout",
     "output_type": "stream",
     "text": [
      "['This is a test notebook', '# This is a test notebook', '__init__']\n",
      "['This is a test notebook', '# This is a test notebook', 'create_b']\n",
      "['This is a test notebook', '# This is a test notebook', 'add_one']\n",
      "['This is a test notebook', '# This is a test notebook', '__init__']\n",
      "['This is a test notebook', '# This is a test notebook', '__init__']\n",
      "['This is a test notebook', '# This is a test notebook', '__init__']\n",
      "['This is a test notebook', '# This is a test notebook']\n",
      "['Data', '# Data']\n",
      "['Data', '# Data', 'Data 1', '## Data 1']\n",
      "['Data', '# Data', 'Data 1', '## Data 1']\n",
      "['Data', '# Data', 'Data 2', '## Data 2']\n",
      "['Data', '# Data', 'Data 2', '## Data 2']\n",
      "['Plot', '# Plot', 'Plot 1', '## Plot 1']\n",
      "['Plot', '# Plot', 'Plot 1', '## Plot 1']\n",
      "['Plot', '# Plot', 'Plot 2', '## Plot 2']\n",
      "['Plot', '# Plot', 'Plot 2', '## Plot 2']\n",
      "['Plot', '# Plot', 'Plot 2', '## Plot 2']\n"
     ]
    }
   ],
   "source": [
    "for c in notebook.cells:\n",
    "    print(c['tags'])"
   ]
  },
  {
   "cell_type": "code",
   "execution_count": 5,
   "metadata": {},
   "outputs": [
    {
     "name": "stdout",
     "output_type": "stream",
     "text": [
      "Ran Data (heading 1)\n",
      "Ran Data 1 (heading 2)\n",
      "Ran Data 2 (heading 2)\n",
      "Ran Data (heading 1)\n",
      "Ran Data 1 (heading 2)\n",
      "Ran Data 2 (heading 2)\n",
      "-----data h1 done-----\n",
      "Ran Data 1 (heading 2)\n",
      "Ran Data 1 (heading 2)\n",
      "-----data 1 h2 done-----\n",
      "Ran Data 2 (heading 2)\n",
      "Ran Data 2 (heading 2)\n",
      "-----data 2 h2 done-----\n",
      "Ran Plot 1 (heading 2)\n",
      "Ran Plot 2 (heading 2)\n",
      "Ran Plot 1 (heading 2)\n",
      "Ran Plot 2 (heading 2)\n",
      "-----plot h1 done-----\n",
      "Ran Plot 1 (heading 2)\n",
      "Ran Plot 1 (heading 2)\n",
      "-----plot 1 h2 done-----\n",
      "Ran Plot 2 (heading 2)\n",
      "Ran Plot 2 (heading 2)\n",
      "-----plot 2 h2 done-----\n"
     ]
    },
    {
     "data": {
      "image/png": "[encoded data removed]",
      "text/plain": [
       "<Figure size 432x288 with 1 Axes>"
      ]
     },
     "metadata": {
      "needs_background": "light"
     },
     "output_type": "display_data"
    }
   ],
   "source": [
    "# we should see everything run twice\n",
    "notebook.run_tag('Data')\n",
    "notebook.run_tag('# Data')\n",
    "print('-----data h1 done-----')\n",
    "notebook.run_tag('Data 1')\n",
    "notebook.run_tag('## Data 1')\n",
    "print('-----data 1 h2 done-----')\n",
    "notebook.run_tag('Data 2')\n",
    "notebook.run_tag('## Data 2')\n",
    "print('-----data 2 h2 done-----')\n",
    "\n",
    "notebook.run_tag('Plot')\n",
    "notebook.run_tag('# Plot')\n",
    "print('-----plot h1 done-----')\n",
    "notebook.run_tag('Plot 1')\n",
    "notebook.run_tag('## Plot 1')\n",
    "print('-----plot 1 h2 done-----')\n",
    "notebook.run_tag('Plot 2')\n",
    "notebook.run_tag('## Plot 2')\n",
    "print('-----plot 2 h2 done-----')"
   ]
  },
  {
   "cell_type": "code",
   "execution_count": null,
   "metadata": {},
   "outputs": [],
   "source": []
  }
 ],
 "metadata": {
  "kernelspec": {
   "display_name": "Python 3",
   "language": "python",
   "name": "python3"
  },
  "language_info": {
   "codemirror_mode": {
    "name": "ipython",
    "version": 3
   },
   "file_extension": ".py",
   "mimetype": "text/x-python",
   "name": "python",
   "nbconvert_exporter": "python",
   "pygments_lexer": "ipython3",
   "version": "3.7.1"
  }
 },
 "nbformat": 4,
 "nbformat_minor": 2
}
